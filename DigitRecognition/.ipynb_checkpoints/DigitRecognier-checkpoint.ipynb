{
 "cells": [
  {
   "cell_type": "markdown",
   "metadata": {},
   "source": [
    "## Preprocessing images"
   ]
  },
  {
   "cell_type": "code",
   "execution_count": 1,
   "metadata": {},
   "outputs": [],
   "source": [
    "import numpy as np\n",
    "import cv2"
   ]
  },
  {
   "cell_type": "code",
   "execution_count": 2,
   "metadata": {},
   "outputs": [],
   "source": [
    "def contour_coordinates(contour):\n",
    "    if cv2.contourArea(contour) > 10:\n",
    "        M = cv2.moments(contour)\n",
    "        return (int(M['m10']/M['m00']))"
   ]
  },
  {
   "cell_type": "code",
   "execution_count": 3,
   "metadata": {},
   "outputs": [],
   "source": [
    "def drawSquare(image):\n",
    "    # Draw a square around the found digits\n",
    "    b = [0,0,0]\n",
    "    height,width = image.shape[0],image.shape[1]\n",
    "    if height == width:\n",
    "        square = image\n",
    "        return square\n",
    "    else:\n",
    "        d_size = cv2.resize(image,(2*width,2*height),interpolation = cv2.INTER_CUBIC)\n",
    "        height,width = height*2, width*2\n",
    "        if height > width:\n",
    "            padding = (height - width) / 2\n",
    "            d_size_square = cv2.copyMakeBorder(d_size,0,padding,padding,cv2.BORDER_CONSTANT,values=b)\n",
    "        else:\n",
    "            padding = (weight - height) / 2\n",
    "            d_size_square = cv2.copyMakeBorder(d_size, padding, padding, 0, 0, cv2.BORDER_CONSTANT, value=b)\n",
    "    return d_size_square"
   ]
  },
  {
   "cell_type": "code",
   "execution_count": 4,
   "metadata": {},
   "outputs": [],
   "source": [
    "def resize(image,dim):\n",
    "    b = [0,0,0]\n",
    "    dim = dim - 4\n",
    "    squared = image\n",
    "    r = (float(dim) / squared.shape[1])\n",
    "    d = (dim, int(squared.shape[0] * r))\n",
    "    resized = cv2.resize(image, d, interpolation = cv2.INTER_AREA)\n",
    "    height, width = resized.shape[0], resized[1]\n",
    "    if (height > width):\n",
    "        resized = cv2.copyMakeBorder(resized, 0,0,0,1, cv2.BORDER_CONSTANT, value=b)\n",
    "    if (height < width):\n",
    "        resized = cv2.copyMakeBorder(resized, 1,0,0,0, cv2.BORDER_CONSTANT, value=b)\n",
    "\n",
    "    resized = cv2.copyMakeBorder(resized, 2,2,2,2,cv2.BORDER_CONSTANT, value=b)\n",
    "    height, width = resized.shape[0], resized.shape[1]\t\n",
    "\n",
    "    return resized"
   ]
  },
  {
   "cell_type": "markdown",
   "metadata": {},
   "source": [
    "## KNN Model"
   ]
  },
  {
   "cell_type": "code",
   "execution_count": 5,
   "metadata": {},
   "outputs": [],
   "source": [
    "# Loading the digits data\n",
    "data = cv2.imread('images/digits.png')\n",
    "gray = cv2.cvtColor(data,cv2.COLOR_BGR2GRAY)"
   ]
  },
  {
   "cell_type": "code",
   "execution_count": 6,
   "metadata": {},
   "outputs": [],
   "source": [
    "# Resizing each digit from 20x20 to 10x10\n",
    "resized = cv2.pyrDown(gray)\n",
    "cv2.imshow(\"Original data\",resized)"
   ]
  },
  {
   "cell_type": "code",
   "execution_count": 7,
   "metadata": {},
   "outputs": [
    {
     "name": "stdout",
     "output_type": "stream",
     "text": [
      "Resulting Shape (50, 100, 20, 20)\n"
     ]
    }
   ],
   "source": [
    "# Splitting image original image into 5000 different arrays of size 20x20\n",
    "# Resulting array: 50 * 100 * 20 * 20\n",
    "\n",
    "arr = [np.hsplit(i, 100) for i in np.vsplit(gray, 50)]\n",
    "arr = np.array(arr)\n",
    "print (\"Resulting Shape\", arr.shape)"
   ]
  },
  {
   "cell_type": "code",
   "execution_count": 8,
   "metadata": {},
   "outputs": [
    {
     "name": "stdout",
     "output_type": "stream",
     "text": [
      "input shapes\n",
      "-->Train: (3500, 400), Test: (1500, 400)\n"
     ]
    }
   ],
   "source": [
    "# Spliting into training and test set\n",
    "# Total: 5000, Train: 3500 images, Test: 1500\n",
    "X_train = arr[:, :70].reshape(-1, 400).astype(np.float32)\n",
    "X_test = arr[:, 70:100].reshape(-1, 400).astype(np.float32)\n",
    "print (\"input shapes\\n-->Train: {}, Test: {}\".format(X_train.shape, X_test.shape))"
   ]
  },
  {
   "cell_type": "code",
   "execution_count": 9,
   "metadata": {},
   "outputs": [
    {
     "name": "stdout",
     "output_type": "stream",
     "text": [
      "target shapes\n",
      "-->Train: (3500, 1), Test: (1500, 1)\n"
     ]
    }
   ],
   "source": [
    "y = [0,1,2,3,4,5,6,7,8,9]\n",
    "\n",
    "y_train = np.repeat(y, 350)[:, np.newaxis]\n",
    "y_test = np.repeat(y, 150)[:, np.newaxis] \n",
    "print (\"target shapes\\n-->Train: {}, Test: {}\".format(y_train.shape, y_test.shape))\n",
    "\n"
   ]
  },
  {
   "cell_type": "code",
   "execution_count": 10,
   "metadata": {},
   "outputs": [],
   "source": [
    "# Using K-NN(k- nearest neighbors) as the ML algorithm\n",
    "classifier_knn = cv2.ml.KNearest_create()\n",
    "classifier_knn.train(X_train, cv2.ml.ROW_SAMPLE, y_train)\n",
    "response, result, neighbours, distance = classifier_knn.findNearest(X_test, k=3)"
   ]
  },
  {
   "cell_type": "code",
   "execution_count": 11,
   "metadata": {},
   "outputs": [
    {
     "name": "stdout",
     "output_type": "stream",
     "text": [
      "Accuracy:  93.46666666666667\n"
     ]
    }
   ],
   "source": [
    "# Testing and calculating the accuracy of knn classifier\n",
    "correct = result == y_test\n",
    "correct = np.count_nonzero(correct)\n",
    "accuracy = correct * (100.0/result.size)\n",
    "print (\"Accuracy: \", accuracy)\n",
    "cv2.waitKey(0)\n",
    "cv2.destroyAllWindows()"
   ]
  },
  {
   "cell_type": "code",
   "execution_count": 12,
   "metadata": {},
   "outputs": [
    {
     "name": "stdout",
     "output_type": "stream",
     "text": [
      "Resulting Shape (50, 100, 20, 20)\n",
      "input shapes\n",
      "-->Train: (3500, 400), Test: (1500, 400)\n",
      "target shapes\n",
      "-->Train: (3500, 1), Test: (1500, 1)\n",
      "Accuracy:  93.46666666666667\n"
     ]
    },
    {
     "ename": "ValueError",
     "evalue": "not enough values to unpack (expected 3, got 2)",
     "output_type": "error",
     "traceback": [
      "\u001b[1;31m---------------------------------------------------------------------------\u001b[0m",
      "\u001b[1;31mValueError\u001b[0m                                Traceback (most recent call last)",
      "\u001b[1;32m<ipython-input-12-179393a3598b>\u001b[0m in \u001b[0;36m<module>\u001b[1;34m\u001b[0m\n\u001b[0;32m     21\u001b[0m \u001b[0mcv2\u001b[0m\u001b[1;33m.\u001b[0m\u001b[0mwaitKey\u001b[0m\u001b[1;33m(\u001b[0m\u001b[1;36m0\u001b[0m\u001b[1;33m)\u001b[0m\u001b[1;33m\u001b[0m\u001b[1;33m\u001b[0m\u001b[0m\n\u001b[0;32m     22\u001b[0m \u001b[1;33m\u001b[0m\u001b[0m\n\u001b[1;32m---> 23\u001b[1;33m \u001b[0m_\u001b[0m\u001b[1;33m,\u001b[0m \u001b[0mcontours\u001b[0m\u001b[1;33m,\u001b[0m \u001b[0m_\u001b[0m \u001b[1;33m=\u001b[0m \u001b[0mcv2\u001b[0m\u001b[1;33m.\u001b[0m\u001b[0mfindContours\u001b[0m\u001b[1;33m(\u001b[0m\u001b[0mcanny\u001b[0m\u001b[1;33m.\u001b[0m\u001b[0mcopy\u001b[0m\u001b[1;33m(\u001b[0m\u001b[1;33m)\u001b[0m\u001b[1;33m,\u001b[0m \u001b[0mcv2\u001b[0m\u001b[1;33m.\u001b[0m\u001b[0mRETR_EXTERNAL\u001b[0m\u001b[1;33m,\u001b[0m \u001b[0mcv2\u001b[0m\u001b[1;33m.\u001b[0m\u001b[0mCHAIN_APPROX_SIMPLE\u001b[0m\u001b[1;33m)\u001b[0m\u001b[1;33m\u001b[0m\u001b[1;33m\u001b[0m\u001b[0m\n\u001b[0m\u001b[0;32m     24\u001b[0m \u001b[0mprint\u001b[0m \u001b[1;33m(\u001b[0m\u001b[0mlen\u001b[0m\u001b[1;33m(\u001b[0m\u001b[0mcontours\u001b[0m\u001b[1;33m)\u001b[0m\u001b[1;33m)\u001b[0m\u001b[1;33m\u001b[0m\u001b[1;33m\u001b[0m\u001b[0m\n\u001b[0;32m     25\u001b[0m \u001b[1;31m# Sort from left to right\u001b[0m\u001b[1;33m\u001b[0m\u001b[1;33m\u001b[0m\u001b[1;33m\u001b[0m\u001b[0m\n",
      "\u001b[1;31mValueError\u001b[0m: not enough values to unpack (expected 3, got 2)"
     ]
    }
   ],
   "source": [
    "import numpy as np\n",
    "import cv2\n",
    "from preprocess import *\n",
    "from basic_knn import *\n",
    "\n",
    "image = cv2.imread('images/text.jpg')\n",
    "gray = cv2.cvtColor(image, cv2.COLOR_BGR2GRAY)\n",
    "\n",
    "cv2.imshow('Original', image)\n",
    "cv2.waitKey(0)\n",
    "\n",
    "cv2.imshow('Gray', gray)\n",
    "cv2.waitKey(0)\n",
    "\n",
    "blur = cv2.GaussianBlur(gray, (5,5), 0)\n",
    "cv2.imshow('Gaussian Blur', blur)\n",
    "cv2.waitKey(0)\n",
    "\n",
    "canny = cv2.Canny(blur, 30, 150)\n",
    "cv2.imshow(\"Canny\", canny)\n",
    "cv2.waitKey(0)\n",
    "\n",
    "_, contours, _ = cv2.findContours(canny.copy(), cv2.RETR_EXTERNAL, cv2.CHAIN_APPROX_SIMPLE)\n",
    "print (len(contours))\n",
    "# Sort from left to right\n",
    "contours = sorted(contours, key=contour_coordinates, reverse=False)\n",
    "\n",
    "# Found number in the image\n",
    "display = []\n",
    "\n",
    "for contour in contours:\n",
    "\t(x, y, w, h) = cv2.boundingRect(contour)\n",
    "\t#cv2.drawContours(image, contours, -1, (0,255,0), 3)\n",
    "\t#cv2.imshow('Contours', image)\n",
    "\t#cv2.waitKey(0)\n",
    "\n",
    "\tif w>= 5 and h>=20:\n",
    "\t\tarea = blur[y:y+h, x:x+w]\n",
    "\t\tret, area = cv2.threshold(area, 127, 255, cv2.THRESH_BINARY_INV)\n",
    "\n",
    "\t\tnew_square = drawSquare(area)\n",
    "\t\tnumber = resize(new_square, 20)\n",
    "\t\tcv2.imshow('Numbers', number)\n",
    "\t\tcv2.waitKey(0)\n",
    "\t\tprint (number.shape)\n",
    "\t\tresult = number.reshape((1, 400))\n",
    "\t\tresult = number.astype(np.float32)\n",
    "\t\tret, res, neighbours, distance = classifier_knn.findNearest(result, k=1)\n",
    "\t\tn = str(int(float(res[0])))\n",
    "\t\tdisplay.append(n)\n",
    "\n",
    "\t\t# draw rectangle around individual digit\n",
    "\t\tcv2.rectangle(image, (x,y), (x+w, y+h), (0,0,255), 2)\n",
    "\t\tcv2.putText(image, n, (x,y+155), cv2.FONT_ITALIC, 2, (0,0,130), 2)\n",
    "\t\tcv2.imshow('Image with numbers decoded', image)\n",
    "\t\tcv2.waitKey(0)\n",
    "\n",
    "cv2.destroyAllWindows()\n"
   ]
  },
  {
   "cell_type": "code",
   "execution_count": null,
   "metadata": {},
   "outputs": [],
   "source": []
  }
 ],
 "metadata": {
  "kernelspec": {
   "display_name": "Python 3",
   "language": "python",
   "name": "python3"
  },
  "language_info": {
   "codemirror_mode": {
    "name": "ipython",
    "version": 3
   },
   "file_extension": ".py",
   "mimetype": "text/x-python",
   "name": "python",
   "nbconvert_exporter": "python",
   "pygments_lexer": "ipython3",
   "version": "3.8.3"
  }
 },
 "nbformat": 4,
 "nbformat_minor": 4
}
